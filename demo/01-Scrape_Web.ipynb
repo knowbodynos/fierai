{
 "cells": [
  {
   "cell_type": "code",
   "execution_count": 2,
   "metadata": {},
   "outputs": [
    {
     "name": "stdout",
     "output_type": "stream",
     "text": [
      "Requirement already satisfied: python-dotenv in /home/raltman/.local/lib/python3.6/site-packages (0.14.0)\n"
     ]
    }
   ],
   "source": [
    "!pip install --user python-dotenv"
   ]
  },
  {
   "cell_type": "code",
   "execution_count": 3,
   "metadata": {},
   "outputs": [
    {
     "data": {
      "text/plain": [
       "True"
      ]
     },
     "execution_count": 3,
     "metadata": {},
     "output_type": "execute_result"
    }
   ],
   "source": [
    "from dotenv import load_dotenv\n",
    "load_dotenv()"
   ]
  },
  {
   "cell_type": "markdown",
   "metadata": {},
   "source": [
    "# YouTube"
   ]
  },
  {
   "cell_type": "code",
   "execution_count": 4,
   "metadata": {
    "scrolled": true
   },
   "outputs": [
    {
     "name": "stdout",
     "output_type": "stream",
     "text": [
      "Requirement already satisfied: youtube-data-api in /home/raltman/.local/lib/python3.6/site-packages (0.0.20)\n",
      "Requirement already satisfied: youtube-dl in /home/raltman/.local/lib/python3.6/site-packages (2020.9.20)\n",
      "Requirement already satisfied: requests in /home/raltman/.local/lib/python3.6/site-packages (from youtube-data-api) (2.22.0)\n",
      "Requirement already satisfied: pandas in /home/raltman/.local/lib/python3.6/site-packages (from youtube-data-api) (1.0.5)\n",
      "Requirement already satisfied: certifi>=2017.4.17 in /home/raltman/.local/lib/python3.6/site-packages (from requests->youtube-data-api) (2020.6.20)\n",
      "Requirement already satisfied: chardet<3.1.0,>=3.0.2 in /home/raltman/.local/lib/python3.6/site-packages (from requests->youtube-data-api) (3.0.4)\n",
      "Requirement already satisfied: urllib3!=1.25.0,!=1.25.1,<1.26,>=1.21.1 in /home/raltman/.local/lib/python3.6/site-packages (from requests->youtube-data-api) (1.25.9)\n",
      "Requirement already satisfied: idna<2.9,>=2.5 in /home/raltman/.local/lib/python3.6/site-packages (from requests->youtube-data-api) (2.8)\n",
      "Requirement already satisfied: python-dateutil>=2.6.1 in /home/raltman/.local/lib/python3.6/site-packages (from pandas->youtube-data-api) (2.8.1)\n",
      "Requirement already satisfied: numpy>=1.13.3 in /home/raltman/.local/lib/python3.6/site-packages (from pandas->youtube-data-api) (1.18.5)\n",
      "Requirement already satisfied: pytz>=2017.2 in /home/raltman/.local/lib/python3.6/site-packages (from pandas->youtube-data-api) (2020.1)\n",
      "Requirement already satisfied: six>=1.5 in /home/raltman/.local/lib/python3.6/site-packages (from python-dateutil>=2.6.1->pandas->youtube-data-api) (1.15.0)\n"
     ]
    }
   ],
   "source": [
    "!pip install --user youtube-data-api youtube-dl"
   ]
  },
  {
   "cell_type": "code",
   "execution_count": 5,
   "metadata": {},
   "outputs": [],
   "source": [
    "import os\n",
    "from youtube_api import YouTubeDataAPI"
   ]
  },
  {
   "cell_type": "code",
   "execution_count": 6,
   "metadata": {},
   "outputs": [],
   "source": [
    "api_key = os.getenv('YOUTUBE_API_KEY')\n",
    "youtube_api = YouTubeDataAPI(api_key)"
   ]
  },
  {
   "cell_type": "code",
   "execution_count": 7,
   "metadata": {},
   "outputs": [],
   "source": [
    "!rm test_data/*"
   ]
  },
  {
   "cell_type": "code",
   "execution_count": 8,
   "metadata": {},
   "outputs": [
    {
     "name": "stdout",
     "output_type": "stream",
     "text": [
      "[youtube:playlist] PL0fz1Uw8o8X0ZQGmDPqhJhH_rv_farjH3: Downloading webpage\n",
      "[download] Downloading playlist: Popular Diners, Drive-Ins and Dives & Food Network videos\n",
      "[youtube:playlist] playlist Popular Diners, Drive-Ins and Dives & Food Network videos: Downloading 3 videos\n",
      "[download] Downloading video 1 of 3\n",
      "[youtube] biJlOFLzvoI: Downloading webpage\n",
      "[youtube] biJlOFLzvoI: Looking for automatic captions\n",
      "[info] Writing video subtitles to: biJlOFLzvoI.en.vtt\n",
      "[download] Downloading video 2 of 3\n",
      "[youtube] lJpRwSWUCOE: Downloading webpage\n",
      "[youtube] lJpRwSWUCOE: Looking for automatic captions\n",
      "[info] Writing video subtitles to: lJpRwSWUCOE.en.vtt\n",
      "[download] Downloading video 3 of 3\n",
      "[youtube] 1PpGd_80fQs: Downloading webpage\n",
      "[youtube] 1PpGd_80fQs: Looking for automatic captions\n",
      "[info] Writing video subtitles to: 1PpGd_80fQs.en.vtt\n",
      "[download] Finished downloading playlist: Popular Diners, Drive-Ins and Dives & Food Network videos\n"
     ]
    }
   ],
   "source": [
    "query = 'diners driveins and dives'\n",
    "max_results = 1\n",
    "\n",
    "search_url = \"https://www.youtube.com/playlist?list=\"\n",
    "\n",
    "api_params = {\n",
    "    'q': query,\n",
    "    'max_results': max_results,\n",
    "    'parser': lambda item: search_url + item['id']['playlistId'],\n",
    "    'part': ['id'],\n",
    "    'search_type': 'playlist'\n",
    "}\n",
    "\n",
    "scrape_cmd = \"youtube-dl -i --id --skip-download \" \\\n",
    "             \"--write-auto-sub --sub-format vtt --sub-lang en \" \\\n",
    "             \"--playlist-items 1-3\"\n",
    "\n",
    "for item in youtube_api.search(**api_params):\n",
    "    !bash -c \"cd test_data && {scrape_cmd} {item}\""
   ]
  },
  {
   "cell_type": "markdown",
   "metadata": {},
   "source": [
    "# Twitter"
   ]
  },
  {
   "cell_type": "code",
   "execution_count": 9,
   "metadata": {},
   "outputs": [
    {
     "name": "stdout",
     "output_type": "stream",
     "text": [
      "Collecting tweepy\n",
      "  Downloading tweepy-3.9.0-py2.py3-none-any.whl (30 kB)\n",
      "Requirement already satisfied: requests-oauthlib>=0.7.0 in /home/raltman/.local/lib/python3.6/site-packages (from tweepy) (1.3.0)\n",
      "Requirement already satisfied: requests[socks]>=2.11.1 in /home/raltman/.local/lib/python3.6/site-packages (from tweepy) (2.22.0)\n",
      "Requirement already satisfied: six>=1.10.0 in /home/raltman/.local/lib/python3.6/site-packages (from tweepy) (1.15.0)\n",
      "Requirement already satisfied: oauthlib>=3.0.0 in /home/raltman/.local/lib/python3.6/site-packages (from requests-oauthlib>=0.7.0->tweepy) (3.1.0)\n",
      "Requirement already satisfied: urllib3!=1.25.0,!=1.25.1,<1.26,>=1.21.1 in /home/raltman/.local/lib/python3.6/site-packages (from requests[socks]>=2.11.1->tweepy) (1.25.9)\n",
      "Requirement already satisfied: chardet<3.1.0,>=3.0.2 in /home/raltman/.local/lib/python3.6/site-packages (from requests[socks]>=2.11.1->tweepy) (3.0.4)\n",
      "Requirement already satisfied: certifi>=2017.4.17 in /home/raltman/.local/lib/python3.6/site-packages (from requests[socks]>=2.11.1->tweepy) (2020.6.20)\n",
      "Requirement already satisfied: idna<2.9,>=2.5 in /home/raltman/.local/lib/python3.6/site-packages (from requests[socks]>=2.11.1->tweepy) (2.8)\n",
      "Collecting PySocks!=1.5.7,>=1.5.6; extra == \"socks\"\n",
      "  Downloading PySocks-1.7.1-py3-none-any.whl (16 kB)\n",
      "Installing collected packages: tweepy, PySocks\n",
      "Successfully installed PySocks-1.7.1 tweepy-3.9.0\n"
     ]
    }
   ],
   "source": [
    "!pip install --user tweepy"
   ]
  },
  {
   "cell_type": "code",
   "execution_count": 10,
   "metadata": {},
   "outputs": [],
   "source": [
    "import os\n",
    "import tweepy"
   ]
  },
  {
   "cell_type": "code",
   "execution_count": 11,
   "metadata": {},
   "outputs": [],
   "source": [
    "api_key, api_secret = map(os.getenv, ['TWITTER_API_KEY', 'TWITTER_API_SECRET'])\n",
    "twitter_auth = tweepy.AppAuthHandler(api_key, api_secret)\n",
    "twitter_api = tweepy.API(twitter_auth)"
   ]
  },
  {
   "cell_type": "code",
   "execution_count": 20,
   "metadata": {},
   "outputs": [],
   "source": [
    "tweets = twitter_api.user_timeline(screen_name=\"GuyFieri\", count=1000, tweet_mode=\"extended\")"
   ]
  },
  {
   "cell_type": "code",
   "execution_count": 23,
   "metadata": {},
   "outputs": [
    {
     "data": {
      "text/plain": [
       "'Bruthas and sistas of @flavortown! \\n\\nCheck out this virtual Q&amp;A session with ME as part of @NYCWFF Goes Virtual presented by @CapitalOne!\\n\\nFor tickets and more info check out: https://t.co/IXvKP4zvsp https://t.co/ptxQgHpXiD'"
      ]
     },
     "execution_count": 23,
     "metadata": {},
     "output_type": "execute_result"
    }
   ],
   "source": [
    "tweets[0].full_text"
   ]
  }
 ],
 "metadata": {
  "kernelspec": {
   "display_name": "Python 3",
   "language": "python",
   "name": "python3"
  },
  "language_info": {
   "codemirror_mode": {
    "name": "ipython",
    "version": 3
   },
   "file_extension": ".py",
   "mimetype": "text/x-python",
   "name": "python",
   "nbconvert_exporter": "python",
   "pygments_lexer": "ipython3",
   "version": "3.6.7"
  }
 },
 "nbformat": 4,
 "nbformat_minor": 4
}
