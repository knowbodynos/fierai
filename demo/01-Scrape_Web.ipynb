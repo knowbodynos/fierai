{
 "cells": [
  {
   "cell_type": "markdown",
   "metadata": {},
   "source": [
    "<h1>And now... the Guy we've all been waiting for</h1>\n",
    "<div display=\"inline\">\n",
    "<img src=\"https://lh3.googleusercontent.com/proxy/lFjAfM3_0KtIx9gb7OvXi2iKsW6I8UtDCm_Eb3KR7BPREqO-LJlJgJNCz5IHJax0aPrWo7eptyjPxlMynj4Hs2n-TkIccHSIp0Z3Ba22h7YN6wXa8bJJP8uJJgJmaVwEly35YjxzlxZukAAlXLUIx8izBuUP1S4Gkns_3I5mrSLvqc6NJQTN87zpedpDaTBmKZn6O3e3f4UeZXMYeGnv5Em1jIr3rkdRdY6EJ2dw_fIyUg\">\n",
    "<img src=\"https://media.gq.com/photos/59dfc6d9d61cb80476584e18/1:1/w_676,h_676,c_limit/guy-fieiri-flame.jpg\" width=500>\n",
    "</div>"
   ]
  },
  {
   "cell_type": "code",
   "execution_count": 1,
   "metadata": {},
   "outputs": [
    {
     "data": {
      "text/plain": [
       "True"
      ]
     },
     "execution_count": 1,
     "metadata": {},
     "output_type": "execute_result"
    }
   ],
   "source": [
    "# Load secrets from .env file\n",
    "from dotenv import load_dotenv\n",
    "load_dotenv()"
   ]
  },
  {
   "cell_type": "markdown",
   "metadata": {},
   "source": [
    "# Scrape YouTube auto-generated captions"
   ]
  },
  {
   "cell_type": "code",
   "execution_count": 2,
   "metadata": {},
   "outputs": [],
   "source": [
    "import os\n",
    "from youtube_api import YouTubeDataAPI"
   ]
  },
  {
   "cell_type": "code",
   "execution_count": 3,
   "metadata": {},
   "outputs": [],
   "source": [
    "api_key = os.getenv('YOUTUBE_API_KEY')\n",
    "youtube_api = YouTubeDataAPI(api_key)"
   ]
  },
  {
   "cell_type": "code",
   "execution_count": 4,
   "metadata": {},
   "outputs": [
    {
     "name": "stdout",
     "output_type": "stream",
     "text": [
      "zsh:1: no matches found: test_data/*\n"
     ]
    }
   ],
   "source": [
    "!rm test_data/*"
   ]
  },
  {
   "cell_type": "code",
   "execution_count": 6,
   "metadata": {},
   "outputs": [
    {
     "name": "stdout",
     "output_type": "stream",
     "text": [
      "[youtube:playlist] PL0fz1Uw8o8X0ZQGmDPqhJhH_rv_farjH3: Downloading webpage\n",
      "[download] Downloading playlist: Popular Diners, Drive-Ins and Dives & Food Network videos\n",
      "[youtube:playlist] playlist Popular Diners, Drive-Ins and Dives & Food Network videos: Downloading 3 videos\n",
      "[download] Downloading video 1 of 3\n",
      "[youtube] biJlOFLzvoI: Downloading webpage\n",
      "[youtube] biJlOFLzvoI: Looking for automatic captions\n",
      "[info] Writing video subtitles to: biJlOFLzvoI.en.vtt\n",
      "[download] Downloading video 2 of 3\n",
      "[youtube] lJpRwSWUCOE: Downloading webpage\n",
      "[youtube] lJpRwSWUCOE: Looking for automatic captions\n",
      "[info] Writing video subtitles to: lJpRwSWUCOE.en.vtt\n",
      "[download] Downloading video 3 of 3\n",
      "[youtube] 1PpGd_80fQs: Downloading webpage\n",
      "[youtube] 1PpGd_80fQs: Looking for automatic captions\n",
      "[info] Writing video subtitles to: 1PpGd_80fQs.en.vtt\n",
      "[download] Finished downloading playlist: Popular Diners, Drive-Ins and Dives & Food Network videos\n"
     ]
    }
   ],
   "source": [
    "query = 'diners driveins and dives'\n",
    "max_results = 1\n",
    "\n",
    "search_url = \"https://www.youtube.com/playlist?list=\"\n",
    "\n",
    "api_params = {\n",
    "    'q': query,\n",
    "    'max_results': max_results,\n",
    "    'parser': lambda item: search_url + item['id']['playlistId'],\n",
    "    'part': ['id'],\n",
    "    'search_type': 'playlist'\n",
    "}\n",
    "\n",
    "scrape_cmd = \"youtube-dl -i --id --skip-download \" \\\n",
    "             \"--write-auto-sub --sub-format vtt --sub-lang en \" \\\n",
    "             \"--playlist-items 1-3\"\n",
    "\n",
    "for item in youtube_api.search(**api_params):\n",
    "    !bash -c \"cd test_data && {scrape_cmd} {item}\""
   ]
  },
  {
   "cell_type": "markdown",
   "metadata": {},
   "source": [
    "# Scrape Twitter user tweets"
   ]
  },
  {
   "cell_type": "code",
   "execution_count": 10,
   "metadata": {},
   "outputs": [],
   "source": [
    "import os\n",
    "import tweepy"
   ]
  },
  {
   "cell_type": "code",
   "execution_count": 11,
   "metadata": {},
   "outputs": [],
   "source": [
    "api_key, api_secret = map(os.getenv, ['TWITTER_API_KEY', 'TWITTER_API_SECRET'])\n",
    "twitter_auth = tweepy.AppAuthHandler(api_key, api_secret)\n",
    "twitter_api = tweepy.API(twitter_auth)"
   ]
  },
  {
   "cell_type": "code",
   "execution_count": 20,
   "metadata": {},
   "outputs": [],
   "source": [
    "tweets = twitter_api.user_timeline(screen_name=\"GuyFieri\", count=1000, tweet_mode=\"extended\")"
   ]
  },
  {
   "cell_type": "code",
   "execution_count": 23,
   "metadata": {},
   "outputs": [
    {
     "data": {
      "text/plain": [
       "'Bruthas and sistas of @flavortown! \\n\\nCheck out this virtual Q&amp;A session with ME as part of @NYCWFF Goes Virtual presented by @CapitalOne!\\n\\nFor tickets and more info check out: https://t.co/IXvKP4zvsp https://t.co/ptxQgHpXiD'"
      ]
     },
     "execution_count": 23,
     "metadata": {},
     "output_type": "execute_result"
    }
   ],
   "source": [
    "tweets[0].full_text"
   ]
  }
 ],
 "metadata": {
  "kernelspec": {
   "display_name": "Python 3",
   "language": "python",
   "name": "python3"
  },
  "language_info": {
   "codemirror_mode": {
    "name": "ipython",
    "version": 3
   },
   "file_extension": ".py",
   "mimetype": "text/x-python",
   "name": "python",
   "nbconvert_exporter": "python",
   "pygments_lexer": "ipython3",
   "version": "3.6.7"
  }
 },
 "nbformat": 4,
 "nbformat_minor": 4
}
