{
 "cells": [
  {
   "cell_type": "markdown",
   "metadata": {},
   "source": [
    "# Parse raw data"
   ]
  },
  {
   "cell_type": "code",
   "execution_count": 1,
   "metadata": {},
   "outputs": [
    {
     "name": "stdout",
     "output_type": "stream",
     "text": [
      "Collecting webvtt-py\n",
      "  Downloading webvtt_py-0.4.5-py3-none-any.whl (16 kB)\n",
      "Processing /home/raltman/.cache/pip/wheels/9b/04/dd/7daf4150b6d9b12949298737de9431a324d4b797ffd63f526e/docopt-0.6.2-py2.py3-none-any.whl\n",
      "Installing collected packages: docopt, webvtt-py\n",
      "Successfully installed docopt-0.6.2 webvtt-py-0.4.5\n"
     ]
    }
   ],
   "source": [
    "!pip install --user webvtt-py tqdm"
   ]
  },
  {
   "cell_type": "code",
   "execution_count": 1,
   "metadata": {},
   "outputs": [],
   "source": [
    "import re\n",
    "import pandas as pd\n",
    "import webvtt as wv\n",
    "from tqdm import tqdm\n",
    "from pathlib import Path\n",
    "from typing import Iterator, Dict, Any"
   ]
  },
  {
   "cell_type": "code",
   "execution_count": 10,
   "metadata": {},
   "outputs": [],
   "source": [
    "def split_on_pauses(vtt_parser, split_time: float = 3.) -> Iterator[Dict[str, Any]]:\n",
    "    name = Path(vtt_parser.file).name\n",
    "    duration = vtt_parser.total_length\n",
    "    start, end = 0, 0\n",
    "    text = \"\"\n",
    "    for i, caption in enumerate(vtt_parser):\n",
    "        if i % 2 == 1:  # Every other line is a new caption\n",
    "            if (caption.start_in_seconds - end > split_time) and text:  # Split on extended silence\n",
    "                yield dict(name=name, duration=duration, start=start, end=end, text=text)\n",
    "                start = caption.start_in_seconds\n",
    "                text = \"\"\n",
    "            line = re.sub('\\[.*\\]', '', caption.text)  # Remove [Music] or [Laughter] captions\n",
    "            line = re.sub('\\s+', ' ', line)  # Condense whitespace\n",
    "            if text:\n",
    "                text += ' '\n",
    "            text += line.strip()\n",
    "            end = caption.end_in_seconds\n",
    "        i += 1\n",
    "    if text:\n",
    "        yield dict(name=name, duration=duration, start=start, end=end, text=text)"
   ]
  },
  {
   "cell_type": "code",
   "execution_count": 24,
   "metadata": {},
   "outputs": [
    {
     "name": "stderr",
     "output_type": "stream",
     "text": [
      "100%|██████████| 655/655 [00:16<00:00, 38.85it/s]\n"
     ]
    }
   ],
   "source": [
    "records = []\n",
    "files = list(Path('data').glob('*.en.vtt'))\n",
    "for file in tqdm(files):\n",
    "    vtt_parser = wv.read(file)\n",
    "    records.extend(split_on_pauses(vtt_parser))\n",
    "data = pd.DataFrame.from_records(records)\n",
    "data = data.dropna()\n",
    "data.to_csv(\"data/raw_dataset.tsv\", sep='\\t', index=False)"
   ]
  },
  {
   "cell_type": "code",
   "execution_count": 25,
   "metadata": {},
   "outputs": [
    {
     "name": "stdout",
     "output_type": "stream",
     "text": [
      "Dataset contains 100.13 hours of content\n"
     ]
    }
   ],
   "source": [
    "data = pd.read_csv(\"data/raw_dataset.tsv\", sep='\\t')\n",
    "content_duration = data.groupby('name').head(1).duration.sum() / (60 * 60)\n",
    "print(f\"Dataset contains {content_duration:.2f} hours of content\")"
   ]
  },
  {
   "cell_type": "markdown",
   "metadata": {},
   "source": [
    "# Preprocess data"
   ]
  },
  {
   "cell_type": "markdown",
   "metadata": {},
   "source": [
    "## Preprocess for text generation"
   ]
  },
  {
   "cell_type": "code",
   "execution_count": 66,
   "metadata": {
    "scrolled": true
   },
   "outputs": [
    {
     "name": "stdout",
     "output_type": "stream",
     "text": [
      "Requirement already satisfied: inflect in /home/raltman/.local/lib/python3.6/site-packages (3.0.2)\n",
      "Requirement already satisfied: spacy in /home/raltman/.local/lib/python3.6/site-packages (2.3.2)\n",
      "Requirement already satisfied: importlib-metadata in /home/raltman/.local/lib/python3.6/site-packages (from inflect) (0.23)\n",
      "Requirement already satisfied: blis<0.5.0,>=0.4.0 in /home/raltman/.local/lib/python3.6/site-packages (from spacy) (0.4.1)\n",
      "Requirement already satisfied: wasabi<1.1.0,>=0.4.0 in /home/raltman/.local/lib/python3.6/site-packages (from spacy) (0.8.0)\n",
      "Requirement already satisfied: numpy>=1.15.0 in /home/raltman/.local/lib/python3.6/site-packages (from spacy) (1.18.5)\n",
      "Requirement already satisfied: plac<1.2.0,>=0.9.6 in /home/raltman/.local/lib/python3.6/site-packages (from spacy) (1.1.3)\n",
      "Requirement already satisfied: requests<3.0.0,>=2.13.0 in /home/raltman/.local/lib/python3.6/site-packages (from spacy) (2.22.0)\n",
      "Requirement already satisfied: catalogue<1.1.0,>=0.0.7 in /home/raltman/.local/lib/python3.6/site-packages (from spacy) (1.0.0)\n",
      "Requirement already satisfied: cymem<2.1.0,>=2.0.2 in /home/raltman/.local/lib/python3.6/site-packages (from spacy) (2.0.3)\n",
      "Requirement already satisfied: preshed<3.1.0,>=3.0.2 in /home/raltman/.local/lib/python3.6/site-packages (from spacy) (3.0.2)\n",
      "Requirement already satisfied: setuptools in /home/raltman/.pyenv/versions/3.6.7/lib/python3.6/site-packages (from spacy) (49.1.1)\n",
      "Requirement already satisfied: murmurhash<1.1.0,>=0.28.0 in /home/raltman/.local/lib/python3.6/site-packages (from spacy) (1.0.2)\n",
      "Requirement already satisfied: tqdm<5.0.0,>=4.38.0 in /home/raltman/.local/lib/python3.6/site-packages (from spacy) (4.50.2)\n",
      "Requirement already satisfied: srsly<1.1.0,>=1.0.2 in /home/raltman/.local/lib/python3.6/site-packages (from spacy) (1.0.2)\n",
      "Requirement already satisfied: thinc==7.4.1 in /home/raltman/.local/lib/python3.6/site-packages (from spacy) (7.4.1)\n",
      "Requirement already satisfied: zipp>=0.5 in /home/raltman/.local/lib/python3.6/site-packages (from importlib-metadata->inflect) (0.6.0)\n",
      "Requirement already satisfied: urllib3!=1.25.0,!=1.25.1,<1.26,>=1.21.1 in /home/raltman/.local/lib/python3.6/site-packages (from requests<3.0.0,>=2.13.0->spacy) (1.25.9)\n",
      "Requirement already satisfied: certifi>=2017.4.17 in /home/raltman/.local/lib/python3.6/site-packages (from requests<3.0.0,>=2.13.0->spacy) (2020.6.20)\n",
      "Requirement already satisfied: idna<2.9,>=2.5 in /home/raltman/.local/lib/python3.6/site-packages (from requests<3.0.0,>=2.13.0->spacy) (2.8)\n",
      "Requirement already satisfied: chardet<3.1.0,>=3.0.2 in /home/raltman/.local/lib/python3.6/site-packages (from requests<3.0.0,>=2.13.0->spacy) (3.0.4)\n",
      "Requirement already satisfied: more-itertools in /home/raltman/.local/lib/python3.6/site-packages (from zipp>=0.5->importlib-metadata->inflect) (7.2.0)\n",
      "Requirement already satisfied: en_core_web_sm==2.3.1 from https://github.com/explosion/spacy-models/releases/download/en_core_web_sm-2.3.1/en_core_web_sm-2.3.1.tar.gz#egg=en_core_web_sm==2.3.1 in /home/raltman/.pyenv/versions/3.6.7/lib/python3.6/site-packages (2.3.1)\n",
      "Requirement already satisfied: spacy<2.4.0,>=2.3.0 in /home/raltman/.local/lib/python3.6/site-packages (from en_core_web_sm==2.3.1) (2.3.2)\n",
      "Requirement already satisfied: preshed<3.1.0,>=3.0.2 in /home/raltman/.local/lib/python3.6/site-packages (from spacy<2.4.0,>=2.3.0->en_core_web_sm==2.3.1) (3.0.2)\n",
      "Requirement already satisfied: tqdm<5.0.0,>=4.38.0 in /home/raltman/.local/lib/python3.6/site-packages (from spacy<2.4.0,>=2.3.0->en_core_web_sm==2.3.1) (4.50.2)\n",
      "Requirement already satisfied: numpy>=1.15.0 in /home/raltman/.local/lib/python3.6/site-packages (from spacy<2.4.0,>=2.3.0->en_core_web_sm==2.3.1) (1.18.5)\n",
      "Requirement already satisfied: plac<1.2.0,>=0.9.6 in /home/raltman/.local/lib/python3.6/site-packages (from spacy<2.4.0,>=2.3.0->en_core_web_sm==2.3.1) (1.1.3)\n",
      "Requirement already satisfied: murmurhash<1.1.0,>=0.28.0 in /home/raltman/.local/lib/python3.6/site-packages (from spacy<2.4.0,>=2.3.0->en_core_web_sm==2.3.1) (1.0.2)\n",
      "Requirement already satisfied: thinc==7.4.1 in /home/raltman/.local/lib/python3.6/site-packages (from spacy<2.4.0,>=2.3.0->en_core_web_sm==2.3.1) (7.4.1)\n",
      "Requirement already satisfied: srsly<1.1.0,>=1.0.2 in /home/raltman/.local/lib/python3.6/site-packages (from spacy<2.4.0,>=2.3.0->en_core_web_sm==2.3.1) (1.0.2)\n",
      "Requirement already satisfied: cymem<2.1.0,>=2.0.2 in /home/raltman/.local/lib/python3.6/site-packages (from spacy<2.4.0,>=2.3.0->en_core_web_sm==2.3.1) (2.0.3)\n",
      "Requirement already satisfied: catalogue<1.1.0,>=0.0.7 in /home/raltman/.local/lib/python3.6/site-packages (from spacy<2.4.0,>=2.3.0->en_core_web_sm==2.3.1) (1.0.0)\n",
      "Requirement already satisfied: wasabi<1.1.0,>=0.4.0 in /home/raltman/.local/lib/python3.6/site-packages (from spacy<2.4.0,>=2.3.0->en_core_web_sm==2.3.1) (0.8.0)\n",
      "Requirement already satisfied: requests<3.0.0,>=2.13.0 in /home/raltman/.local/lib/python3.6/site-packages (from spacy<2.4.0,>=2.3.0->en_core_web_sm==2.3.1) (2.22.0)\n",
      "Requirement already satisfied: blis<0.5.0,>=0.4.0 in /home/raltman/.local/lib/python3.6/site-packages (from spacy<2.4.0,>=2.3.0->en_core_web_sm==2.3.1) (0.4.1)\n",
      "Requirement already satisfied: setuptools in /home/raltman/.pyenv/versions/3.6.7/lib/python3.6/site-packages (from spacy<2.4.0,>=2.3.0->en_core_web_sm==2.3.1) (49.1.1)\n",
      "Requirement already satisfied: importlib-metadata>=0.20; python_version < \"3.8\" in /home/raltman/.local/lib/python3.6/site-packages (from catalogue<1.1.0,>=0.0.7->spacy<2.4.0,>=2.3.0->en_core_web_sm==2.3.1) (0.23)\n",
      "Requirement already satisfied: chardet<3.1.0,>=3.0.2 in /home/raltman/.local/lib/python3.6/site-packages (from requests<3.0.0,>=2.13.0->spacy<2.4.0,>=2.3.0->en_core_web_sm==2.3.1) (3.0.4)\n",
      "Requirement already satisfied: certifi>=2017.4.17 in /home/raltman/.local/lib/python3.6/site-packages (from requests<3.0.0,>=2.13.0->spacy<2.4.0,>=2.3.0->en_core_web_sm==2.3.1) (2020.6.20)\n",
      "Requirement already satisfied: urllib3!=1.25.0,!=1.25.1,<1.26,>=1.21.1 in /home/raltman/.local/lib/python3.6/site-packages (from requests<3.0.0,>=2.13.0->spacy<2.4.0,>=2.3.0->en_core_web_sm==2.3.1) (1.25.9)\n",
      "Requirement already satisfied: idna<2.9,>=2.5 in /home/raltman/.local/lib/python3.6/site-packages (from requests<3.0.0,>=2.13.0->spacy<2.4.0,>=2.3.0->en_core_web_sm==2.3.1) (2.8)\n",
      "Requirement already satisfied: zipp>=0.5 in /home/raltman/.local/lib/python3.6/site-packages (from importlib-metadata>=0.20; python_version < \"3.8\"->catalogue<1.1.0,>=0.0.7->spacy<2.4.0,>=2.3.0->en_core_web_sm==2.3.1) (0.6.0)\n",
      "Requirement already satisfied: more-itertools in /home/raltman/.local/lib/python3.6/site-packages (from zipp>=0.5->importlib-metadata>=0.20; python_version < \"3.8\"->catalogue<1.1.0,>=0.0.7->spacy<2.4.0,>=2.3.0->en_core_web_sm==2.3.1) (7.2.0)\n",
      "\u001b[38;5;2m✔ Download and installation successful\u001b[0m\n",
      "You can now load the model via spacy.load('en_core_web_sm')\n",
      "\u001b[38;5;2m✔ Linking successful\u001b[0m\n",
      "/home/raltman/.pyenv/versions/3.6.7/lib/python3.6/site-packages/en_core_web_sm\n",
      "--> /home/raltman/.local/lib/python3.6/site-packages/spacy/data/en\n",
      "You can now load the model via spacy.load('en')\n"
     ]
    }
   ],
   "source": [
    "!pip install --user inflect"
   ]
  },
  {
   "cell_type": "code",
   "execution_count": 67,
   "metadata": {},
   "outputs": [],
   "source": [
    "import re\n",
    "import string\n",
    "import inflect\n",
    "import spacy"
   ]
  },
  {
   "cell_type": "code",
   "execution_count": 68,
   "metadata": {},
   "outputs": [],
   "source": [
    "number_to_words = inflect.engine().number_to_words\n",
    "all_numbers_to_words = lambda text: re.sub('([0-9]+[\\.,]*[0-9]*)', lambda x: number_to_words(x[1]), text)"
   ]
  },
  {
   "cell_type": "code",
   "execution_count": 90,
   "metadata": {},
   "outputs": [
    {
     "data": {
      "text/plain": [
       "'!\"#$%&\\'()*+,-./:;<=>?@[\\\\]^_`{|}~'"
      ]
     },
     "execution_count": 90,
     "metadata": {},
     "output_type": "execute_result"
    }
   ],
   "source": [
    "string.punctuation"
   ]
  },
  {
   "cell_type": "code",
   "execution_count": 91,
   "metadata": {},
   "outputs": [
    {
     "name": "stdout",
     "output_type": "stream",
     "text": [
      "CPU times: user 3 µs, sys: 0 ns, total: 3 µs\n",
      "Wall time: 7.63 µs\n"
     ]
    }
   ],
   "source": [
    "%time\n",
    "data = pd.read_csv(\"data/raw_dataset.tsv\", sep='\\t')\n",
    "data.text = data.text.apply(all_numbers_to_words)  # Convert numbers to words\n",
    "data.text = data.text.str.replace('-', ' ')  # Remove hyphens\n",
    "data.to_csv(\"data/cleaned_dataset.tsv\", sep='\\t', index=False)"
   ]
  },
  {
   "cell_type": "code",
   "execution_count": 92,
   "metadata": {},
   "outputs": [],
   "source": [
    "train_frac = 0.9\n",
    "valid_frac = 0.1\n",
    "random_seed = 42\n",
    "\n",
    "video_data = data.groupby('name').head(1)\n",
    "video_data = video_data.sample(frac=1, random_state=random_seed)\n",
    "video_names = video_data.name\n",
    "video_fracs = video_data.duration.cumsum() / video_data.duration.sum()\n",
    "\n",
    "with open(\"data/corpus.train.txt\", 'w') as fh:\n",
    "    train_names = video_names[(video_fracs < train_frac)]\n",
    "    for name in train_names:\n",
    "        train_lines = data[data.name == name].text\n",
    "        print(*train_lines, sep='. ', file=fh)\n",
    "with open(\"data/corpus.valid.txt\", 'w') as fh:\n",
    "    valid_names = video_names[(train_frac <= video_fracs) & (video_fracs < train_frac + valid_frac)]\n",
    "    for name in valid_names:\n",
    "        valid_lines = data[data.name == name].text\n",
    "        print(*valid_lines, sep='. ', file=fh)\n",
    "with open(\"data/corpus.test.txt\", 'w') as fh:\n",
    "    test_names = video_names[train_frac + valid_frac < video_fracs]\n",
    "    for name in test_names:\n",
    "        test_lines = data[data.name == name].text\n",
    "        print(*test_lines, sep='. ', file=fh)"
   ]
  },
  {
   "cell_type": "code",
   "execution_count": 112,
   "metadata": {},
   "outputs": [
    {
     "name": "stdout",
     "output_type": "stream",
     "text": [
      "data/corpus.test.txt\n",
      "data/corpus.train.txt\n",
      "data/corpus.valid.txt\n",
      "{\"success\":true,\"key\":\"Vr3tfD7AVqo6\",\"link\":\"https://file.io/Vr3tfD7AVqo6\",\"expiry\":\"14 days\"}"
     ]
    },
    {
     "name": "stderr",
     "output_type": "stream",
     "text": [
      "  % Total    % Received % Xferd  Average Speed   Time    Time     Time  Current\n",
      "                                 Dload  Upload   Total   Spent    Left  Speed\n",
      "100 1535k  100    94  100 1535k    661  10.5M --:--:-- --:--:-- --:--:-- 10.5M\n"
     ]
    }
   ],
   "source": [
    "%%bash\n",
    "tar czfv data/corpus.tar.gz data/corpus.*.txt\n",
    "curl -F \"file=@data/corpus.tar.gz\" https://file.io/?expires=1d"
   ]
  },
  {
   "cell_type": "markdown",
   "metadata": {},
   "source": [
    "## Preprocess for BOW"
   ]
  },
  {
   "cell_type": "code",
   "execution_count": 69,
   "metadata": {
    "scrolled": true
   },
   "outputs": [
    {
     "name": "stdout",
     "output_type": "stream",
     "text": [
      "Requirement already satisfied: spacy in /home/raltman/.local/lib/python3.6/site-packages (2.3.2)\n",
      "Requirement already satisfied: setuptools in /home/raltman/.pyenv/versions/3.6.7/lib/python3.6/site-packages (from spacy) (49.1.1)\n",
      "Requirement already satisfied: plac<1.2.0,>=0.9.6 in /home/raltman/.local/lib/python3.6/site-packages (from spacy) (1.1.3)\n",
      "Requirement already satisfied: numpy>=1.15.0 in /home/raltman/.local/lib/python3.6/site-packages (from spacy) (1.18.5)\n",
      "Requirement already satisfied: tqdm<5.0.0,>=4.38.0 in /home/raltman/.local/lib/python3.6/site-packages (from spacy) (4.50.2)\n",
      "Requirement already satisfied: wasabi<1.1.0,>=0.4.0 in /home/raltman/.local/lib/python3.6/site-packages (from spacy) (0.8.0)\n",
      "Requirement already satisfied: requests<3.0.0,>=2.13.0 in /home/raltman/.local/lib/python3.6/site-packages (from spacy) (2.22.0)\n",
      "Requirement already satisfied: preshed<3.1.0,>=3.0.2 in /home/raltman/.local/lib/python3.6/site-packages (from spacy) (3.0.2)\n",
      "Requirement already satisfied: blis<0.5.0,>=0.4.0 in /home/raltman/.local/lib/python3.6/site-packages (from spacy) (0.4.1)\n",
      "Requirement already satisfied: murmurhash<1.1.0,>=0.28.0 in /home/raltman/.local/lib/python3.6/site-packages (from spacy) (1.0.2)\n",
      "Requirement already satisfied: cymem<2.1.0,>=2.0.2 in /home/raltman/.local/lib/python3.6/site-packages (from spacy) (2.0.3)\n",
      "Requirement already satisfied: catalogue<1.1.0,>=0.0.7 in /home/raltman/.local/lib/python3.6/site-packages (from spacy) (1.0.0)\n",
      "Requirement already satisfied: thinc==7.4.1 in /home/raltman/.local/lib/python3.6/site-packages (from spacy) (7.4.1)\n",
      "Requirement already satisfied: srsly<1.1.0,>=1.0.2 in /home/raltman/.local/lib/python3.6/site-packages (from spacy) (1.0.2)\n",
      "Requirement already satisfied: chardet<3.1.0,>=3.0.2 in /home/raltman/.local/lib/python3.6/site-packages (from requests<3.0.0,>=2.13.0->spacy) (3.0.4)\n",
      "Requirement already satisfied: certifi>=2017.4.17 in /home/raltman/.local/lib/python3.6/site-packages (from requests<3.0.0,>=2.13.0->spacy) (2020.6.20)\n",
      "Requirement already satisfied: urllib3!=1.25.0,!=1.25.1,<1.26,>=1.21.1 in /home/raltman/.local/lib/python3.6/site-packages (from requests<3.0.0,>=2.13.0->spacy) (1.25.9)\n",
      "Requirement already satisfied: idna<2.9,>=2.5 in /home/raltman/.local/lib/python3.6/site-packages (from requests<3.0.0,>=2.13.0->spacy) (2.8)\n",
      "Requirement already satisfied: importlib-metadata>=0.20; python_version < \"3.8\" in /home/raltman/.local/lib/python3.6/site-packages (from catalogue<1.1.0,>=0.0.7->spacy) (0.23)\n",
      "Requirement already satisfied: zipp>=0.5 in /home/raltman/.local/lib/python3.6/site-packages (from importlib-metadata>=0.20; python_version < \"3.8\"->catalogue<1.1.0,>=0.0.7->spacy) (0.6.0)\n",
      "Requirement already satisfied: more-itertools in /home/raltman/.local/lib/python3.6/site-packages (from zipp>=0.5->importlib-metadata>=0.20; python_version < \"3.8\"->catalogue<1.1.0,>=0.0.7->spacy) (7.2.0)\n",
      "Requirement already satisfied: en_core_web_sm==2.3.1 from https://github.com/explosion/spacy-models/releases/download/en_core_web_sm-2.3.1/en_core_web_sm-2.3.1.tar.gz#egg=en_core_web_sm==2.3.1 in /home/raltman/.pyenv/versions/3.6.7/lib/python3.6/site-packages (2.3.1)\n",
      "Requirement already satisfied: spacy<2.4.0,>=2.3.0 in /home/raltman/.local/lib/python3.6/site-packages (from en_core_web_sm==2.3.1) (2.3.2)\n",
      "Requirement already satisfied: catalogue<1.1.0,>=0.0.7 in /home/raltman/.local/lib/python3.6/site-packages (from spacy<2.4.0,>=2.3.0->en_core_web_sm==2.3.1) (1.0.0)\n",
      "Requirement already satisfied: thinc==7.4.1 in /home/raltman/.local/lib/python3.6/site-packages (from spacy<2.4.0,>=2.3.0->en_core_web_sm==2.3.1) (7.4.1)\n",
      "Requirement already satisfied: setuptools in /home/raltman/.pyenv/versions/3.6.7/lib/python3.6/site-packages (from spacy<2.4.0,>=2.3.0->en_core_web_sm==2.3.1) (49.1.1)\n",
      "Requirement already satisfied: blis<0.5.0,>=0.4.0 in /home/raltman/.local/lib/python3.6/site-packages (from spacy<2.4.0,>=2.3.0->en_core_web_sm==2.3.1) (0.4.1)\n",
      "Requirement already satisfied: tqdm<5.0.0,>=4.38.0 in /home/raltman/.local/lib/python3.6/site-packages (from spacy<2.4.0,>=2.3.0->en_core_web_sm==2.3.1) (4.50.2)\n",
      "Requirement already satisfied: wasabi<1.1.0,>=0.4.0 in /home/raltman/.local/lib/python3.6/site-packages (from spacy<2.4.0,>=2.3.0->en_core_web_sm==2.3.1) (0.8.0)\n",
      "Requirement already satisfied: srsly<1.1.0,>=1.0.2 in /home/raltman/.local/lib/python3.6/site-packages (from spacy<2.4.0,>=2.3.0->en_core_web_sm==2.3.1) (1.0.2)\n",
      "Requirement already satisfied: murmurhash<1.1.0,>=0.28.0 in /home/raltman/.local/lib/python3.6/site-packages (from spacy<2.4.0,>=2.3.0->en_core_web_sm==2.3.1) (1.0.2)\n",
      "Requirement already satisfied: plac<1.2.0,>=0.9.6 in /home/raltman/.local/lib/python3.6/site-packages (from spacy<2.4.0,>=2.3.0->en_core_web_sm==2.3.1) (1.1.3)\n",
      "Requirement already satisfied: cymem<2.1.0,>=2.0.2 in /home/raltman/.local/lib/python3.6/site-packages (from spacy<2.4.0,>=2.3.0->en_core_web_sm==2.3.1) (2.0.3)\n",
      "Requirement already satisfied: requests<3.0.0,>=2.13.0 in /home/raltman/.local/lib/python3.6/site-packages (from spacy<2.4.0,>=2.3.0->en_core_web_sm==2.3.1) (2.22.0)\n",
      "Requirement already satisfied: numpy>=1.15.0 in /home/raltman/.local/lib/python3.6/site-packages (from spacy<2.4.0,>=2.3.0->en_core_web_sm==2.3.1) (1.18.5)\n",
      "Requirement already satisfied: preshed<3.1.0,>=3.0.2 in /home/raltman/.local/lib/python3.6/site-packages (from spacy<2.4.0,>=2.3.0->en_core_web_sm==2.3.1) (3.0.2)\n",
      "Requirement already satisfied: importlib-metadata>=0.20; python_version < \"3.8\" in /home/raltman/.local/lib/python3.6/site-packages (from catalogue<1.1.0,>=0.0.7->spacy<2.4.0,>=2.3.0->en_core_web_sm==2.3.1) (0.23)\n",
      "Requirement already satisfied: certifi>=2017.4.17 in /home/raltman/.local/lib/python3.6/site-packages (from requests<3.0.0,>=2.13.0->spacy<2.4.0,>=2.3.0->en_core_web_sm==2.3.1) (2020.6.20)\n",
      "Requirement already satisfied: chardet<3.1.0,>=3.0.2 in /home/raltman/.local/lib/python3.6/site-packages (from requests<3.0.0,>=2.13.0->spacy<2.4.0,>=2.3.0->en_core_web_sm==2.3.1) (3.0.4)\n",
      "Requirement already satisfied: urllib3!=1.25.0,!=1.25.1,<1.26,>=1.21.1 in /home/raltman/.local/lib/python3.6/site-packages (from requests<3.0.0,>=2.13.0->spacy<2.4.0,>=2.3.0->en_core_web_sm==2.3.1) (1.25.9)\n",
      "Requirement already satisfied: idna<2.9,>=2.5 in /home/raltman/.local/lib/python3.6/site-packages (from requests<3.0.0,>=2.13.0->spacy<2.4.0,>=2.3.0->en_core_web_sm==2.3.1) (2.8)\n",
      "Requirement already satisfied: zipp>=0.5 in /home/raltman/.local/lib/python3.6/site-packages (from importlib-metadata>=0.20; python_version < \"3.8\"->catalogue<1.1.0,>=0.0.7->spacy<2.4.0,>=2.3.0->en_core_web_sm==2.3.1) (0.6.0)\n",
      "Requirement already satisfied: more-itertools in /home/raltman/.local/lib/python3.6/site-packages (from zipp>=0.5->importlib-metadata>=0.20; python_version < \"3.8\"->catalogue<1.1.0,>=0.0.7->spacy<2.4.0,>=2.3.0->en_core_web_sm==2.3.1) (7.2.0)\n",
      "\u001b[38;5;2m✔ Download and installation successful\u001b[0m\n",
      "You can now load the model via spacy.load('en_core_web_sm')\n",
      "\u001b[38;5;2m✔ Linking successful\u001b[0m\n",
      "/home/raltman/.pyenv/versions/3.6.7/lib/python3.6/site-packages/en_core_web_sm\n",
      "--> /home/raltman/.local/lib/python3.6/site-packages/spacy/data/en\n",
      "You can now load the model via spacy.load('en')\n"
     ]
    }
   ],
   "source": [
    "!pip install --user tqdm spacy && spacy download en"
   ]
  },
  {
   "cell_type": "code",
   "execution_count": 93,
   "metadata": {},
   "outputs": [],
   "source": [
    "import spacy\n",
    "from tqdm import tqdm\n",
    "tqdm.pandas()"
   ]
  },
  {
   "cell_type": "code",
   "execution_count": 94,
   "metadata": {},
   "outputs": [],
   "source": [
    "sp = spacy.load('en', disable=['parser', 'ner'])\n",
    "lemmatize = lambda text: ' '.join([x.text if x.lemma_ == '-PRON-' else x.lemma_ for x in sp(text)])"
   ]
  },
  {
   "cell_type": "code",
   "execution_count": 95,
   "metadata": {},
   "outputs": [
    {
     "name": "stderr",
     "output_type": "stream",
     "text": [
      "100%|██████████| 25361/25361 [01:27<00:00, 290.39it/s]\n"
     ]
    }
   ],
   "source": [
    "data = pd.read_csv(\"data/cleaned_dataset.tsv\", sep='\\t')\n",
    "data.text = data.text.apply(str.lower)  # All words to lowercase\n",
    "data.text = data.text.str.replace(f'[{string.punctuation}]', '')  # Remove all common punctuation\n",
    "data.text = data.text.progress_apply(lemmatize)\n",
    "data.to_csv(\"data/lemmatized_dataset.tsv\", sep='\\t', index=False)"
   ]
  }
 ],
 "metadata": {
  "kernelspec": {
   "display_name": "Python 3",
   "language": "python",
   "name": "python3"
  },
  "language_info": {
   "codemirror_mode": {
    "name": "ipython",
    "version": 3
   },
   "file_extension": ".py",
   "mimetype": "text/x-python",
   "name": "python",
   "nbconvert_exporter": "python",
   "pygments_lexer": "ipython3",
   "version": "3.6.7"
  }
 },
 "nbformat": 4,
 "nbformat_minor": 4
}
