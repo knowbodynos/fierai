{
 "cells": [
  {
   "cell_type": "code",
   "execution_count": 67,
   "metadata": {},
   "outputs": [],
   "source": [
    "import os\n",
    "import shutil\n",
    "import string\n",
    "import json\n",
    "import webvtt as wv\n",
    "import subprocess as sp\n",
    "from pydub import AudioSegment"
   ]
  },
  {
   "cell_type": "code",
   "execution_count": 76,
   "metadata": {},
   "outputs": [],
   "source": [
    "url = \"https://www.youtube.com/watch?v=1KTRkRQYKPQ\""
   ]
  },
  {
   "cell_type": "code",
   "execution_count": 86,
   "metadata": {},
   "outputs": [
    {
     "data": {
      "text/plain": [
       "('a.en', '.vtt')"
      ]
     },
     "execution_count": 86,
     "metadata": {},
     "output_type": "execute_result"
    }
   ],
   "source": [
    "os.path.splitext(\"a.en.vtt\")"
   ]
  },
  {
   "cell_type": "code",
   "execution_count": 79,
   "metadata": {},
   "outputs": [],
   "source": [
    "cmd = f\"youtube-dl --print-json --write-auto-sub -x --audio-format wav {url}\"\n",
    "p = sp.Popen(cmd.split(), stdout=sp.PIPE, stderr=sp.PIPE, cwd=\"data\")\n",
    "out, err = p.communicate()\n",
    "out = json.loads(out)\n",
    "title = out['title'].split()\n",
    "season = title[title.index(\"Season\")+1]\n",
    "episode = title[title.index(\"Episode\")+1]\n",
    "old_fn = os.path.splitext(out['_filename'])[0]\n",
    "new_fn = f\"s{season}e{episode}\"\n",
    "data_dir = os.path.join(\"data\", new_fn)\n",
    "prefix = os.path.join(data_dir, new_fn)\n",
    "os.makedirs(data_dir, exist_ok=True)\n",
    "os.rename(os.path.join(\"data\", old_fn+\".wav\"), prefix+\".wav\")\n",
    "os.rename(os.path.join(\"data\", old_fn+\".en.vtt\"), prefix+\".en.vtt\")\n",
    "chunk_dir = os.path.join(data_dir, \"chunks\")"
   ]
  },
  {
   "cell_type": "code",
   "execution_count": 80,
   "metadata": {},
   "outputs": [],
   "source": [
    "wav = AudioSegment.from_wav(prefix+'.wav')"
   ]
  },
  {
   "cell_type": "code",
   "execution_count": 82,
   "metadata": {},
   "outputs": [],
   "source": [
    "if os.path.exists(chunk_dir):\n",
    "    shutil.rmtree(chunk_dir)\n",
    "os.makedirs(chunk_dir, exist_ok=True)\n",
    "punc_table = str.maketrans('', '', string.punctuation)\n",
    "text = \"\"\n",
    "delta = 0\n",
    "i = 0\n",
    "for cap in wv.read(prefix+\".en.vtt\"):\n",
    "    if len(text) == 0:\n",
    "        start = cap.start_in_seconds\n",
    "    next_text = cap.text.split('\\n')[1]\n",
    "    next_text = next_text.translate(punc_table)\n",
    "    next_text = next_text.lower()\n",
    "    text += next_text\n",
    "    end = cap.end_in_seconds\n",
    "    if end-start > 10:\n",
    "        isalpha = True\n",
    "        for sent in text.split('\\n'):\n",
    "            for word in text.split():\n",
    "                isalpha = isalpha and word.isalpha()\n",
    "        if isalpha:\n",
    "            chunk_prefix = os.path.join(chunk_dir, f\"chunk_{i}\")\n",
    "            wav[start*1e3:end*1e3].export(chunk_prefix+\".wav\", format=\"wav\")\n",
    "            with open(chunk_prefix+\".txt\", 'w') as fh:\n",
    "                fh.write(text.strip())\n",
    "            i += 1\n",
    "        text = \"\""
   ]
  },
  {
   "cell_type": "code",
   "execution_count": null,
   "metadata": {},
   "outputs": [],
   "source": []
  }
 ],
 "metadata": {
  "kernelspec": {
   "display_name": "Python 3",
   "language": "python",
   "name": "python3"
  },
  "language_info": {
   "codemirror_mode": {
    "name": "ipython",
    "version": 3
   },
   "file_extension": ".py",
   "mimetype": "text/x-python",
   "name": "python",
   "nbconvert_exporter": "python",
   "pygments_lexer": "ipython3",
   "version": "3.6.5"
  }
 },
 "nbformat": 4,
 "nbformat_minor": 4
}
