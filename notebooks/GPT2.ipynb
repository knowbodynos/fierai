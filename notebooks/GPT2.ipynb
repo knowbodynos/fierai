{
 "cells": [
  {
   "cell_type": "code",
   "execution_count": null,
   "metadata": {},
   "outputs": [],
   "source": [
    "from google.colab import drive\n",
    "drive.mount('/content/drive')"
   ]
  },
  {
   "cell_type": "code",
   "execution_count": 1,
   "metadata": {},
   "outputs": [
    {
     "name": "stderr",
     "output_type": "stream",
     "text": [
      "--2020-10-13 02:44:06--  https://raw.githubusercontent.com/huggingface/transformers/master/examples/text-generation/run_generation.py\n",
      "Resolving raw.githubusercontent.com (raw.githubusercontent.com)... 151.101.200.133\n",
      "Connecting to raw.githubusercontent.com (raw.githubusercontent.com)|151.101.200.133|:443... connected.\n",
      "HTTP request sent, awaiting response... 200 OK\n",
      "Length: 11046 (11K) [text/plain]\n",
      "Saving to: ‘../data/run_generation.py’\n",
      "\n",
      "     0K ..........                                            100% 72.2M=0s\n",
      "\n",
      "2020-10-13 02:44:06 (72.2 MB/s) - ‘../data/run_generation.py’ saved [11046/11046]\n",
      "\n"
     ]
    }
   ],
   "source": [
    "%%bash\n",
    "# Install transformers package\n",
    "pip install transformers\n",
    "\n",
    "# Download GPT-2 fine-tuning script\n",
    "wget -P ../data https://raw.githubusercontent.com/huggingface/transformers/master/examples/language-modeling/run_language_modeling.py\n",
    "wget -P ../data https://raw.githubusercontent.com/huggingface/transformers/master/examples/text-generation/run_generation.py\n",
    "\n",
    "    \n",
    "# Download/untar data\n",
    "wget -P ../data https://www.dropbox.com/s/udy2bfbspl6jlna/corpus.tar.gz && \\\n",
    "    tar xzfv ../data/corpus.tar.gz -C ../data"
   ]
  },
  {
   "cell_type": "code",
   "execution_count": null,
   "metadata": {},
   "outputs": [],
   "source": [
    "%%bash\n",
    "export TRAIN_FILE=../data/corpus.train.txt\n",
    "export VALID_FILE=../data/corpus.valid.txt\n",
    "export TEST_FILE=../data/corpus.test.txt\n",
    "export OUTPUT_DIR=../data/output\n",
    "\n",
    "python ../data/run_language_modeling.py \\\n",
    "    --output_dir=${OUTPUT_DIR} \\\n",
    "    --overwrite_output_dir \\\n",
    "    --model_type=gpt2 \\\n",
    "    --model_name_or_path=gpt2 \\\n",
    "    --do_train \\\n",
    "    --train_data_file=${TRAIN_FILE} \\\n",
    "    --do_eval \\\n",
    "    --eval_data_file=${VALID_FILE} \\\n",
    "    --per_gpu_train_batch_size=1 \\\n",
    "    --save_steps=-1 \\\n",
    "    --num_train_epochs=100"
   ]
  },
  {
   "cell_type": "code",
   "execution_count": 2,
   "metadata": {},
   "outputs": [
    {
     "name": "stdout",
     "output_type": "stream",
     "text": [
      "2020-10-13 02:45:02.653825: W tensorflow/stream_executor/platform/default/dso_loader.cc:59] Could not load dynamic library 'libcudart.so.10.1'; dlerror: libcudart.so.10.1: cannot open shared object file: No such file or directory; LD_LIBRARY_PATH: /usr/local/cuda/lib64:/usr/local/cuda/lib64:\n",
      "2020-10-13 02:45:02.653870: I tensorflow/stream_executor/cuda/cudart_stub.cc:29] Ignore above cudart dlerror if you do not have a GPU set up on your machine.\n",
      "^C\n"
     ]
    }
   ],
   "source": [
    "!python ../data/run_generation.py --help"
   ]
  },
  {
   "cell_type": "code",
   "execution_count": null,
   "metadata": {},
   "outputs": [],
   "source": [
    "!tar czfv gpt2-finetuned.tar.gz runs/ output/"
   ]
  },
  {
   "cell_type": "code",
   "execution_count": null,
   "metadata": {},
   "outputs": [],
   "source": [
    "!cp gpt2-tuned.tar.gz /content/drive/My\\ Drive/colab-runs/"
   ]
  },
  {
   "cell_type": "code",
   "execution_count": 3,
   "metadata": {},
   "outputs": [],
   "source": [
    "import transformers as tf"
   ]
  },
  {
   "cell_type": "code",
   "execution_count": null,
   "metadata": {},
   "outputs": [],
   "source": [
    "tf.GPT2Tokenizer"
   ]
  }
 ],
 "metadata": {
  "kernelspec": {
   "display_name": "Python 3",
   "language": "python",
   "name": "python3"
  },
  "language_info": {
   "codemirror_mode": {
    "name": "ipython",
    "version": 3
   },
   "file_extension": ".py",
   "mimetype": "text/x-python",
   "name": "python",
   "nbconvert_exporter": "python",
   "pygments_lexer": "ipython3",
   "version": "3.6.7"
  }
 },
 "nbformat": 4,
 "nbformat_minor": 4
}
