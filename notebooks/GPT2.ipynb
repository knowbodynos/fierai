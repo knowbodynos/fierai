{
 "cells": [
  {
   "cell_type": "code",
   "execution_count": null,
   "metadata": {},
   "outputs": [],
   "source": [
    "from google.colab import drive\n",
    "drive.mount('/content/drive')"
   ]
  },
  {
   "cell_type": "code",
   "execution_count": null,
   "metadata": {},
   "outputs": [],
   "source": [
    "%%bash\n",
    "# Install transformers package\n",
    "pip install transformers\n",
    "\n",
    "# Download GPT-2 fine-tuning script\n",
    "wget https://raw.githubusercontent.com/huggingface/transformers/master/examples/language-modeling/run_language_modeling.py\n",
    "\n",
    "# Download/untar data\n",
    "wget https://www.dropbox.com/s/udy2bfbspl6jlna/corpus.tar.gz && tar xzfv corpus.tar.gz\n",
    "    "
   ]
  },
  {
   "cell_type": "code",
   "execution_count": null,
   "metadata": {},
   "outputs": [],
   "source": [
    "%%bash\n",
    "export TRAIN_FILE=corpus.train.txt\n",
    "export VALID_FILE=corpus.valid.txt\n",
    "export TEST_FILE=corpus.test.txt\n",
    "export OUTPUT_DIR=output\n",
    "\n",
    "python run_language_modeling.py \\\n",
    "    --output_dir=${OUTPUT_DIR} \\\n",
    "    --model_type=gpt2 \\\n",
    "    --model_name_or_path=gpt2 \\\n",
    "    --do_train \\\n",
    "    --train_data_file=${TRAIN_FILE} \\\n",
    "    --do_eval \\\n",
    "    --eval_data_file=${VALID_FILE} \\\n",
    "    --per_gpu_train_batch_size=1 \\\n",
    "    --save_steps=-1 \\\n",
    "    --num_train_epochs=5"
   ]
  },
  {
   "cell_type": "code",
   "execution_count": null,
   "metadata": {},
   "outputs": [],
   "source": [
    "!tar czfv gpt2-finetuned.tar.gz runs/ output/"
   ]
  },
  {
   "cell_type": "code",
   "execution_count": null,
   "metadata": {},
   "outputs": [],
   "source": [
    "!cp gpt2-tuned.tar.gz /content/drive/My\\ Drive/colab-runs/"
   ]
  }
 ],
 "metadata": {
  "kernelspec": {
   "display_name": "Python 3",
   "language": "python",
   "name": "python3"
  },
  "language_info": {
   "codemirror_mode": {
    "name": "ipython",
    "version": 3
   },
   "file_extension": ".py",
   "mimetype": "text/x-python",
   "name": "python",
   "nbconvert_exporter": "python",
   "pygments_lexer": "ipython3",
   "version": "3.6.5"
  }
 },
 "nbformat": 4,
 "nbformat_minor": 4
}
